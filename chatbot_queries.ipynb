{
  "cells": [
    {
      "cell_type": "code",
      "execution_count": null,
      "metadata": {
        "id": "Rt8T5kONxVOL"
      },
      "outputs": [],
      "source": [
        "import nltk\n",
        "import numpy as np\n",
        "from sklearn.feature_extraction.text import TfidfVectorizer\n",
        "from sklearn.metrics.pairwise import cosine_similarity"
      ]
    },
    {
      "cell_type": "code",
      "execution_count": null,
      "metadata": {
        "colab": {
          "base_uri": "https://localhost:8080/"
        },
        "id": "Y_NtkVsbxZkd",
        "outputId": "ce4887db-1a81-4d07-fa97-6c2417a578d6"
      },
      "outputs": [
        {
          "name": "stderr",
          "output_type": "stream",
          "text": [
            "[nltk_data] Downloading package punkt to /root/nltk_data...\n",
            "[nltk_data]   Package punkt is already up-to-date!\n",
            "[nltk_data] Downloading package wordnet to /root/nltk_data...\n",
            "[nltk_data]   Package wordnet is already up-to-date!\n"
          ]
        }
      ],
      "source": [
        "# Download NLTK resources\n",
        "nltk.download('punkt')  # for tokenization\n",
        "nltk.download('wordnet')  # for lemmatization\n",
        "\n",
        "# Initialize variables\n",
        "flag = True\n",
        "\n",
        "# Lemmatizer\n",
        "lemmer = nltk.stem.WordNetLemmatizer()"
      ]
    },
    {
      "cell_type": "code",
      "execution_count": null,
      "metadata": {
        "id": "hKGbX6hVxf6J"
      },
      "outputs": [],
      "source": [
        "def lem_normalize(text):\n",
        "    tokens = nltk.word_tokenize(text.lower())  # Tokenize and convert to lowercase\n",
        "    return [lemmer.lemmatize(token) for token in tokens if token.isalnum()]  # Remove punctuation\n"
      ]
    },
    {
      "cell_type": "code",
      "execution_count": null,
      "metadata": {
        "id": "a3ocybENxkdl"
      },
      "outputs": [],
      "source": [
        "def greeting(sentence):\n",
        "    greetings = [\"hello\", \"hi\", \"hey\"]\n",
        "    for word in sentence.split():\n",
        "        if word in greetings:\n",
        "            return \"Hello! How can I assist you?\"\n"
      ]
    },
    {
      "cell_type": "code",
      "execution_count": null,
      "metadata": {
        "id": "znT6UTbUxn0R"
      },
      "outputs": [],
      "source": [
        "try:\n",
        "    with open('/content/chatbotdata.txt', 'r', encoding='utf8') as f:\n",
        "        raw_data = f.read().lower()  # Read and convert to lowercase\n",
        "except FileNotFoundError:\n",
        "    print(\"Error: 'chatbotdata.txt' file not found. Please upload it to Colab.\")"
      ]
    },
    {
      "cell_type": "code",
      "execution_count": null,
      "metadata": {
        "id": "-vyg3V5sxrUj"
      },
      "outputs": [],
      "source": [
        "sent_tokens = nltk.sent_tokenize(raw_data)"
      ]
    },
    {
      "cell_type": "code",
      "execution_count": null,
      "metadata": {
        "id": "aQvttOiLxul6"
      },
      "outputs": [],
      "source": [
        "def find_best_answer(user_response):\n",
        "    sent_tokens.append(user_response)  # Temporarily add user input\n",
        "\n",
        "    # Vectorize the sentences using TF-IDF\n",
        "    vectorizer = TfidfVectorizer(tokenizer=lem_normalize, preprocessor=lambda x: x)\n",
        "    tfidf_matrix = vectorizer.fit_transform(sent_tokens)\n",
        "\n",
        "    # Compute cosine similarity between user input and all sentences\n",
        "    similarity_scores = cosine_similarity(tfidf_matrix[-1], tfidf_matrix[:-1])\n",
        "    best_match_idx = similarity_scores.argmax()  # Get the best matching sentence index\n",
        "\n",
        "    sent_tokens.pop()  # Remove user input after processing\n",
        "\n",
        "    # Ensure the answer is not the same as the question\n",
        "    best_match = sent_tokens[best_match_idx]\n",
        "    if best_match.strip() == user_response.strip():\n",
        "        return \"I don't have a direct answer to that. Could you rephrase?\"\n",
        "\n",
        "    # Retrieve nearby sentences for more context\n",
        "    answer = best_match\n",
        "    if best_match_idx + 1 < len(sent_tokens):\n",
        "        answer += \" \" + sent_tokens[best_match_idx + 1]  # Include next sentence for context\n",
        "\n",
        "    return answer\n"
      ]
    },
    {
      "cell_type": "code",
      "execution_count": null,
      "metadata": {
        "colab": {
          "background_save": true,
          "base_uri": "https://localhost:8080/"
        },
        "id": "X8uZIioTeRfu",
        "outputId": "e8a1cc00-7a75-488f-c244-79fce8ee93b1"
      },
      "outputs": [
        {
          "name": "stderr",
          "output_type": "stream",
          "text": [
            "/usr/local/lib/python3.10/dist-packages/sklearn/feature_extraction/text.py:521: UserWarning: The parameter 'token_pattern' will not be used since 'tokenizer' is not None'\n",
            "  warnings.warn(\n"
          ]
        },
        {
          "name": "stdout",
          "output_type": "stream",
          "text": [
            "ROBO: I don't have a direct answer to that. Could you rephrase?\n",
            "ROBO: what is insurance? insurance is a means of protection from financial loss in which, in exchange for a fee, a\n",
            "party agrees to compensate another party in the event of a certain loss, damage, or\n",
            "injury.\n",
            "ROBO: what maternity cover should you choose? it is but natural to face confusion when buying maternity cover today.\n",
            "ROBO: .why is health insurance necessary? •nearly 400 million individuals in india have zero access to health insurance.•around 70% of the population is estimated to be covered under public health\n",
            "insurance or voluntarily private health insurance.\n",
            "ROBO: health insurance or medical insurance is a type of insurance that covers the whole or\n",
            "a part of the risk of a person incurring medical expenses. as with other types of insurance,\n",
            "risk is shared among many individuals.\n",
            "ROBO: I don't have a direct answer to that. Could you rephrase?\n",
            "ROBO: source : bussiness line\n",
            "\n",
            "factors while considering a maternity cover\n",
            "thirty-three-year-year old parul gave birth to a beautiful baby girl last year, but despite\n",
            "having a medical insurance policy for the last two years, the insurer refused to cover her\n",
            "hospitalisation bill, which came to rs 2 lakh, including her c-section delivery. parul did not read the fine print of her maternity cover, which clearly stated that the\n",
            "waiting period for any pregnancy-related expenses is four years as per her paln.\n",
            "ROBO: I don't have a direct answer to that. Could you rephrase?\n",
            "ROBO: what is insurance? insurance is a means of protection from financial loss in which, in exchange for a fee, a\n",
            "party agrees to compensate another party in the event of a certain loss, damage, or\n",
            "injury.\n",
            "ROBO: the loss may or may not be financial, but it must be reducible to financial terms. furthermore, it usually involves something in which the insured has an insurable interest\n",
            "established by ownership, possession, or pre-existing relationship.\n",
            "ROBO: what is insurance? insurance is a means of protection from financial loss in which, in exchange for a fee, a\n",
            "party agrees to compensate another party in the event of a certain loss, damage, or\n",
            "injury.\n"
          ]
        }
      ],
      "source": [
        "flag = True\n",
        "while flag:\n",
        "    user_response = input(\"You: \").lower()\n",
        "    if user_response != 'bye!':\n",
        "        if user_response == 'thank you':\n",
        "            print(\"ROBO: You are welcome!\")\n",
        "            flag = False\n",
        "        elif greeting(user_response) is not None:\n",
        "            print(\"ROBO: \" + greeting(user_response))\n",
        "        else:\n",
        "            print(\"ROBO: \", end=\"\")\n",
        "            print(find_best_answer(user_response))\n",
        "    else:\n",
        "        print(\"ROBO: Bye! Take care.\")\n",
        "        flag = False"
      ]
    }
  ],
  "metadata": {
    "colab": {
      "provenance": []
    },
    "kernelspec": {
      "display_name": "Python 3",
      "name": "python3"
    },
    "language_info": {
      "name": "python"
    }
  },
  "nbformat": 4,
  "nbformat_minor": 0
}